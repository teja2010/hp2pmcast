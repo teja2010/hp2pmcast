{
 "cells": [
  {
   "cell_type": "code",
   "execution_count": 5,
   "metadata": {},
   "outputs": [],
   "source": [
    "import os \n",
    "hostlist = [\"52.187.203.128\",\n",
    "\"52.185.168.78\",\n",
    "\"137.135.48.92\",\n",
    "\"13.70.63.210\",\n",
    "\"52.187.107.171\",\n",
    "\"52.228.42.120\",\n",
    "\"104.41.26.234\",\n",
    "\n",
    "\"52.183.72.143\",\n",
    "\"13.90.225.75\",\n",
    "\"137.116.46.241\",\n",
    "\"104.41.230.36\",\n",
    "\"104.40.194.88\",\n",
    "\"51.140.230.85\",\n",
    "\"20.188.46.100\",\n",
    "\"20.188.44.40\",\n",
    "\"104.43.250.39\",\n",
    "\"23.100.105.252\",\n",
    "\"104.211.163.249\",\n",
    "\"13.76.255.49\",\n",
    "\"52.231.90.199\"]\n",
    "            \n",
    "all_files = os.listdir(\"data_colleted4/run5_hp2p_ntw_big\")\n",
    "logs = filter(lambda x: x[-4:] == '.log', all_files)\n",
    "seqthnmap = dict()\n",
    "seqlist = []\n",
    "for filename in logs:\n",
    "    #print(filename)\n",
    "    file = open(os.path.join(\"data_colleted4/run5_hp2p_ntw_big\",filename),'r')\n",
    "    \n",
    "    for line in file.readlines():\n",
    "        data = line.strip().split(\";\")\n",
    "        seq = int(data[0])\n",
    "        if seq in [0]:\n",
    "            continue\n",
    "        if seq not in seqlist:\n",
    "            seqlist.append(seq)\n",
    "            seqthnmap[seq] = dict()\n",
    "            \n",
    "        tandhn = data[1:] #remove sequence\n",
    "        for thn in tandhn:\n",
    "            thnmap = {}\n",
    "            t, hn = thn.split(\",\") # time and hostname\n",
    "            t = int(t)\n",
    "            thnmap[hn] = t\n",
    "            seqthnmap[seq].update(thnmap)\n",
    "    file.close()\n",
    "    \n",
    "file = open('run_5_logmap.txt', 'w')\n",
    "for line in seqthnmap:\n",
    "    file.write(str(line)+': '+str(seqthnmap[line])+'\\n')\n",
    "file.close()\n",
    "\n"
   ]
  },
  {
   "cell_type": "code",
   "execution_count": 8,
   "metadata": {},
   "outputs": [
    {
     "name": "stdout",
     "output_type": "stream",
     "text": [
      "30\n",
      "(30, 20)\n"
     ]
    }
   ],
   "source": [
    "import numpy as np\n",
    "x = np.zeros((seq,20))\n",
    "for line in seqthnmap:\n",
    "    #print(list(seqthnmap[line].values()))\n",
    "    x[line-1] = np.array(list(seqthnmap[line].values()))-min(seqthnmap[line].values())\n",
    "\n",
    "print(seq)\n",
    "print(x.shape)"
   ]
  },
  {
   "cell_type": "code",
   "execution_count": 10,
   "metadata": {},
   "outputs": [
    {
     "name": "stdout",
     "output_type": "stream",
     "text": [
      "average latency = 443473043.025\n",
      "Std deviation = 302555451.6040354\n"
     ]
    }
   ],
   "source": [
    "m,n = x.shape\n",
    "print(\"average latency =\", np.mean(x))\n",
    "      #sum(sum(x))/(m*n))\n",
    "print(\"Std deviation =\", np.std(x))"
   ]
  },
  {
   "cell_type": "code",
   "execution_count": 13,
   "metadata": {},
   "outputs": [
    {
     "data": {
      "image/png": "[encoded data removed]",
      "text/plain": [
       "<Figure size 432x288 with 1 Axes>"
      ]
     },
     "metadata": {
      "needs_background": "light"
     },
     "output_type": "display_data"
    }
   ],
   "source": [
    "from matplotlib import pyplot as plt\n",
    "\n",
    "n, bins, patches = plt.hist((x/1e9).ravel().tolist(), 100, density=True, histtype='step',\n",
    "                           cumulative=True, label='Empirical')\n",
    "plt.suptitle('Hierarchical Network 1 - Data Latency CDF')\n",
    "plt.xlabel('Latency (Seconds)')\n",
    "plt.show()\n",
    "\n"
   ]
  },
  {
   "cell_type": "code",
   "execution_count": 17,
   "metadata": {},
   "outputs": [
    {
     "data": {
      "image/png": "[encoded data removed]",
      "text/plain": [
       "<Figure size 432x288 with 1 Axes>"
      ]
     },
     "metadata": {
      "needs_background": "light"
     },
     "output_type": "display_data"
    }
   ],
   "source": [
    "linkDict = {}\n",
    "\n",
    "all_files = os.listdir(\"data_colleted4/run5_hp2p_ntw_big\")\n",
    "logs = filter(lambda x: x[-4:] == '.log', all_files)\n",
    "for filename in logs:\n",
    "    #print(filename)\n",
    "    file = open(os.path.join(\"data_colleted4/run5_hp2p_ntw_big\",filename),'r')\n",
    "    \n",
    "    for line in file.readlines():\n",
    "        data = line.strip().split(\";\")\n",
    "        \n",
    "        LinkList = []\n",
    "        tandhn = data[1:] #remove sequence\n",
    "        for thn in tandhn:\n",
    "            thnmap = {}\n",
    "            t, hn = thn.split(\",\") # time and hostname\n",
    "            t = int(t)\n",
    "            thnmap[hn] = t\n",
    "            LinkList.append((hn, t))\n",
    "        #print(LinkList)\n",
    "        \n",
    "        for i in range(1, len(LinkList)):\n",
    "            h1, t1 = LinkList[i-1]\n",
    "            h2, t2 = LinkList[i]\n",
    "            key = h2 + \".\" + h1\n",
    "            val = t2 - t1\n",
    "            #print(key, val)\n",
    "            if key not in linkDict.keys():\n",
    "                linkDict[key] = []\n",
    "            linkDict[key].append(val)\n",
    "    file.close()\n",
    "\n",
    "    \n",
    "#print(linkDict)\n",
    "all_lat = []\n",
    "for k in linkDict:\n",
    "    all_lat = all_lat + linkDict[k]\n",
    "\n",
    "all_lat = [x/1e9 for x in all_lat]\n",
    "    \n",
    "plt.hist(all_lat, 30, density = True)\n",
    "plt.title('Histogram of Single Hop Link Usage')\n",
    "plt.ylabel('Percentage used')\n",
    "plt.xlabel('Link latency (s)')\n",
    "plt.show()\n"
   ]
  },
  {
   "cell_type": "code",
   "execution_count": 60,
   "metadata": {},
   "outputs": [
    {
     "name": "stdout",
     "output_type": "stream",
     "text": [
      "202966925.19155845\n"
     ]
    }
   ],
   "source": []
  },
  {
   "cell_type": "code",
   "execution_count": null,
   "metadata": {},
   "outputs": [],
   "source": []
  }
 ],
 "metadata": {
  "kernelspec": {
   "display_name": "Python 3",
   "language": "python",
   "name": "python3"
  },
  "language_info": {
   "codemirror_mode": {
    "name": "ipython",
    "version": 3
   },
   "file_extension": ".py",
   "mimetype": "text/x-python",
   "name": "python",
   "nbconvert_exporter": "python",
   "pygments_lexer": "ipython3",
   "version": "3.6.8"
  }
 },
 "nbformat": 4,
 "nbformat_minor": 2
}
